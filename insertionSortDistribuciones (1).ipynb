{
 "cells": [
  {
   "cell_type": "code",
   "execution_count": 10,
   "metadata": {},
   "outputs": [],
   "source": [
    "import itertools\n",
    "import matplotlib.pyplot as plt\n",
    "import numpy as np"
   ]
  },
  {
   "cell_type": "markdown",
   "metadata": {},
   "source": [
    "inserion sort version itertools"
   ]
  },
  {
   "cell_type": "code",
   "execution_count": 11,
   "metadata": {},
   "outputs": [],
   "source": [
    "def insertion_sort(A):\n",
    "    compa=0\n",
    "    swaps=0\n",
    "    preWhile=0\n",
    "    instru=0\n",
    "    j = 1\n",
    "    while j < len(A):\n",
    "        key = A[j]\n",
    "        i = j - 1\n",
    "        preWhile+=1\n",
    "        instru+=5\n",
    "        while (i >= 0) and (A[i] > key):\n",
    "            A[i + 1] = A[i]\n",
    "            i = i -1\n",
    "            compa+=1\n",
    "            swaps+=1\n",
    "            preWhile+=1\n",
    "            instru+=3\n",
    "        if(i!=-1):\n",
    "            compa+=1\n",
    "        A[i + 1] = key\n",
    "        j = j + 1\n",
    "    instru+=1\n",
    "    return A"
   ]
  },
  {
   "cell_type": "markdown",
   "metadata": {},
   "source": [
    "usando itertools con un arreglo de 12, la maquina no responde.\n",
    "El arreglo 'a' es de 4 elementos en este ejemplo"
   ]
  },
  {
   "cell_type": "code",
   "execution_count": 12,
   "metadata": {},
   "outputs": [
    {
     "name": "stdout",
     "output_type": "stream",
     "text": [
      "[(5, 41, 35, 2), (5, 41, 2, 35), (5, 35, 41, 2), (5, 35, 2, 41), (5, 2, 41, 35), (5, 2, 35, 41), (41, 5, 35, 2), (41, 5, 2, 35), (41, 35, 5, 2), (41, 35, 2, 5), (41, 2, 5, 35), (41, 2, 35, 5), (35, 5, 41, 2), (35, 5, 2, 41), (35, 41, 5, 2), (35, 41, 2, 5), (35, 2, 5, 41), (35, 2, 41, 5), (2, 5, 41, 35), (2, 5, 35, 41), (2, 41, 5, 35), (2, 41, 35, 5), (2, 35, 5, 41), (2, 35, 41, 5)]\n",
      "[2, 5, 35, 41]\n",
      "[2, 5, 35, 41]\n",
      "[2, 5, 35, 41]\n",
      "[2, 5, 35, 41]\n",
      "[2, 5, 35, 41]\n",
      "[2, 5, 35, 41]\n",
      "[2, 5, 35, 41]\n",
      "[2, 5, 35, 41]\n",
      "[2, 5, 35, 41]\n",
      "[2, 5, 35, 41]\n",
      "[2, 5, 35, 41]\n",
      "[2, 5, 35, 41]\n",
      "[2, 5, 35, 41]\n",
      "[2, 5, 35, 41]\n",
      "[2, 5, 35, 41]\n",
      "[2, 5, 35, 41]\n",
      "[2, 5, 35, 41]\n",
      "[2, 5, 35, 41]\n",
      "[2, 5, 35, 41]\n",
      "[2, 5, 35, 41]\n",
      "[2, 5, 35, 41]\n",
      "[2, 5, 35, 41]\n",
      "[2, 5, 35, 41]\n",
      "[2, 5, 35, 41]\n"
     ]
    }
   ],
   "source": [
    "a=[5,41,35,2]\n",
    "lista =list(itertools.permutations(a))\n",
    "print (lista)\n",
    "for i in lista:\n",
    "    i = list(i)\n",
    "    print(insertion_sort(i))"
   ]
  },
  {
   "cell_type": "markdown",
   "metadata": {},
   "source": [
    "Ahora con el codigo de daniel jimenez"
   ]
  },
  {
   "cell_type": "code",
   "execution_count": 13,
   "metadata": {},
   "outputs": [],
   "source": [
    "def insertion_sort(A):\n",
    "    compa=0\n",
    "    swaps=0\n",
    "    preWhile=0\n",
    "    instru=0\n",
    "    j = 1\n",
    "    while j < len(A):\n",
    "        key = A[j]\n",
    "        i = j - 1\n",
    "        preWhile+=1\n",
    "        instru+=5\n",
    "        while (i >= 0) and (A[i] > key):\n",
    "            A[i + 1] = A[i]\n",
    "            i = i -1\n",
    "            compa+=1\n",
    "            swaps+=1\n",
    "            preWhile+=1\n",
    "            instru+=3\n",
    "        if(i!=-1):\n",
    "            compa+=1\n",
    "        A[i + 1] = key\n",
    "        j = j + 1\n",
    "    instru+=1\n",
    "    return compa,swaps,preWhile,instru"
   ]
  },
  {
   "cell_type": "markdown",
   "metadata": {},
   "source": [
    "con swap y perm sobre un mismo arreglo. Se usa el mismo arreglo 'a' de itertools"
   ]
  },
  {
   "cell_type": "code",
   "execution_count": 14,
   "metadata": {},
   "outputs": [
    {
     "name": "stdout",
     "output_type": "stream",
     "text": [
      "[5, 41, 35, 2]\n",
      "[5, 41, 2, 35]\n",
      "[5, 35, 41, 2]\n",
      "[5, 35, 2, 41]\n",
      "[5, 2, 35, 41]\n",
      "[5, 2, 41, 35]\n",
      "[41, 5, 35, 2]\n",
      "[41, 5, 2, 35]\n",
      "[41, 35, 5, 2]\n",
      "[41, 35, 2, 5]\n",
      "[41, 2, 35, 5]\n",
      "[41, 2, 5, 35]\n",
      "[35, 41, 5, 2]\n",
      "[35, 41, 2, 5]\n",
      "[35, 5, 41, 2]\n",
      "[35, 5, 2, 41]\n",
      "[35, 2, 5, 41]\n",
      "[35, 2, 41, 5]\n",
      "[2, 41, 35, 5]\n",
      "[2, 41, 5, 35]\n",
      "[2, 35, 41, 5]\n",
      "[2, 35, 5, 41]\n",
      "[2, 5, 35, 41]\n",
      "[2, 5, 41, 35]\n",
      "[[5, 41, 35, 2], [5, 41, 35, 2], [5, 41, 35, 2], [5, 41, 35, 2], [5, 41, 35, 2], [5, 41, 35, 2], [5, 41, 35, 2], [5, 41, 35, 2], [5, 41, 35, 2], [5, 41, 35, 2], [5, 41, 35, 2], [5, 41, 35, 2], [5, 41, 35, 2], [5, 41, 35, 2], [5, 41, 35, 2], [5, 41, 35, 2], [5, 41, 35, 2], [5, 41, 35, 2], [5, 41, 35, 2], [5, 41, 35, 2], [5, 41, 35, 2], [5, 41, 35, 2], [5, 41, 35, 2], [5, 41, 35, 2]]\n"
     ]
    }
   ],
   "source": [
    "def swap(lista, i, j):\n",
    "    lista[i], lista[j] = lista[j], lista[i]\n",
    "\n",
    "listaDaniel=[]\n",
    "def perm(a,i,j):\n",
    "    if j==i:\n",
    "        print (a)\n",
    "        listaDaniel.append(a)\n",
    "        return\n",
    "    for m in range(i, j+1):\n",
    "\n",
    "        swap(a,m,i)\n",
    "        perm(a,i+1, j)\n",
    "        swap(a, m, i)\n",
    "        \n",
    "perm(a,0,len(a)-1)        \n",
    "print (listaDaniel)"
   ]
  },
  {
   "cell_type": "markdown",
   "metadata": {},
   "source": [
    "Vemos que ambos dan todas las permutaciones. Ahora realizaremos los histogramas de insertion sort"
   ]
  },
  {
   "cell_type": "markdown",
   "metadata": {},
   "source": [
    "La funcion insertion sort retorna comparaciones,swaps,preguntas while e instrucciones. La funcion promedio calculará el promedio de las distintas cuentas"
   ]
  },
  {
   "cell_type": "code",
   "execution_count": 15,
   "metadata": {},
   "outputs": [
    {
     "name": "stdout",
     "output_type": "stream",
     "text": [
      "([5, 41, 35, 2], (6, 4, 7, 28))\n",
      "([5, 41, 2, 35], (5, 3, 6, 25))\n",
      "([5, 35, 41, 2], (5, 3, 6, 25))\n",
      "([5, 35, 2, 41], (4, 2, 5, 22))\n",
      "([5, 2, 41, 35], (4, 2, 5, 22))\n",
      "([5, 2, 35, 41], (3, 1, 4, 19))\n",
      "([41, 5, 35, 2], (6, 5, 8, 31))\n",
      "([41, 5, 2, 35], (5, 4, 7, 28))\n",
      "([41, 35, 5, 2], (6, 6, 9, 34))\n",
      "([41, 35, 2, 5], (6, 5, 8, 31))\n",
      "([41, 2, 5, 35], (5, 3, 6, 25))\n",
      "([41, 2, 35, 5], (6, 4, 7, 28))\n",
      "([35, 5, 41, 2], (5, 4, 7, 28))\n",
      "([35, 5, 2, 41], (4, 3, 6, 25))\n",
      "([35, 41, 5, 2], (6, 5, 8, 31))\n",
      "([35, 41, 2, 5], (6, 4, 7, 28))\n",
      "([35, 2, 5, 41], (4, 2, 5, 22))\n",
      "([35, 2, 41, 5], (5, 3, 6, 25))\n",
      "([2, 5, 41, 35], (4, 1, 4, 19))\n",
      "([2, 5, 35, 41], (3, 0, 3, 16))\n",
      "([2, 41, 5, 35], (5, 2, 5, 22))\n",
      "([2, 41, 35, 5], (6, 3, 6, 25))\n",
      "([2, 35, 5, 41], (4, 1, 4, 19))\n",
      "([2, 35, 41, 5], (5, 2, 5, 22))\n"
     ]
    },
    {
     "data": {
      "image/png": "[encoded data removed]",
      "text/plain": [
       "<matplotlib.figure.Figure at 0x7efd64360b10>"
      ]
     },
     "metadata": {},
     "output_type": "display_data"
    },
    {
     "name": "stdout",
     "output_type": "stream",
     "text": [
      "PROMEDIO COMPARACIONES ====> 4.91666666667\n"
     ]
    }
   ],
   "source": [
    "def promedio(lista):\n",
    "    resultado = 0\n",
    "    for i in range(len(lista)):\n",
    "        resultado += lista[i]\n",
    "    return resultado / len(lista)\n",
    "\n",
    "permOrd=[]\n",
    "compa=[]\n",
    "for i in lista:\n",
    "   i = list(i)\n",
    "   b = list(i)\n",
    "   permOrd=insertion_sort(i)\n",
    "   compa.append(permOrd[0])\n",
    "   print(b,permOrd)\n",
    "\n",
    "#print (compa)\n",
    "\n",
    "plt.hist(compa,bins=30)\n",
    "plt.title(\"HISTOGRAMA DE COMPARACIONES\")\n",
    "plt.xlabel(\"numero de comparaciones\")\n",
    "plt.ylabel(\"numero de coincidencias\")\n",
    "plt.show()\n",
    "print \"PROMEDIO COMPARACIONES ====>\",np.average(compa)"
   ]
  },
  {
   "cell_type": "code",
   "execution_count": 16,
   "metadata": {},
   "outputs": [
    {
     "name": "stdout",
     "output_type": "stream",
     "text": [
      "([5, 41, 35, 2], (6, 4, 7, 28))\n",
      "([5, 41, 2, 35], (5, 3, 6, 25))\n",
      "([5, 35, 41, 2], (5, 3, 6, 25))\n",
      "([5, 35, 2, 41], (4, 2, 5, 22))\n",
      "([5, 2, 41, 35], (4, 2, 5, 22))\n",
      "([5, 2, 35, 41], (3, 1, 4, 19))\n",
      "([41, 5, 35, 2], (6, 5, 8, 31))\n",
      "([41, 5, 2, 35], (5, 4, 7, 28))\n",
      "([41, 35, 5, 2], (6, 6, 9, 34))\n",
      "([41, 35, 2, 5], (6, 5, 8, 31))\n",
      "([41, 2, 5, 35], (5, 3, 6, 25))\n",
      "([41, 2, 35, 5], (6, 4, 7, 28))\n",
      "([35, 5, 41, 2], (5, 4, 7, 28))\n",
      "([35, 5, 2, 41], (4, 3, 6, 25))\n",
      "([35, 41, 5, 2], (6, 5, 8, 31))\n",
      "([35, 41, 2, 5], (6, 4, 7, 28))\n",
      "([35, 2, 5, 41], (4, 2, 5, 22))\n",
      "([35, 2, 41, 5], (5, 3, 6, 25))\n",
      "([2, 5, 41, 35], (4, 1, 4, 19))\n",
      "([2, 5, 35, 41], (3, 0, 3, 16))\n",
      "([2, 41, 5, 35], (5, 2, 5, 22))\n",
      "([2, 41, 35, 5], (6, 3, 6, 25))\n",
      "([2, 35, 5, 41], (4, 1, 4, 19))\n",
      "([2, 35, 41, 5], (5, 2, 5, 22))\n"
     ]
    },
    {
     "data": {
      "image/png": "[encoded data removed]",
      "text/plain": [
       "<matplotlib.figure.Figure at 0x7efd64453c90>"
      ]
     },
     "metadata": {},
     "output_type": "display_data"
    },
    {
     "name": "stdout",
     "output_type": "stream",
     "text": [
      "PROMEDIO SWAPS ====> 3.0\n"
     ]
    }
   ],
   "source": [
    "permOrd=[]\n",
    "compa=[]\n",
    "for i in lista:\n",
    "   i = list(i)\n",
    "   b = list(i)\n",
    "   permOrd=insertion_sort(i)\n",
    "   compa.append(permOrd[1])\n",
    "   print(b,permOrd)\n",
    "#print (compa)\n",
    "plt.hist(compa,bins=30)\n",
    "plt.title(\"HISTOGRAMA DE SWAP\")\n",
    "plt.xlabel(\"numero de swaps\")\n",
    "plt.ylabel(\"numero de coincidencias\")\n",
    "plt.show()\n",
    "print \"PROMEDIO SWAPS ====>\",np.average(compa)"
   ]
  },
  {
   "cell_type": "code",
   "execution_count": 17,
   "metadata": {},
   "outputs": [
    {
     "name": "stdout",
     "output_type": "stream",
     "text": [
      "([5, 41, 35, 2], (6, 4, 7, 28))\n",
      "([5, 41, 2, 35], (5, 3, 6, 25))\n",
      "([5, 35, 41, 2], (5, 3, 6, 25))\n",
      "([5, 35, 2, 41], (4, 2, 5, 22))\n",
      "([5, 2, 41, 35], (4, 2, 5, 22))\n",
      "([5, 2, 35, 41], (3, 1, 4, 19))\n",
      "([41, 5, 35, 2], (6, 5, 8, 31))\n",
      "([41, 5, 2, 35], (5, 4, 7, 28))\n",
      "([41, 35, 5, 2], (6, 6, 9, 34))\n",
      "([41, 35, 2, 5], (6, 5, 8, 31))\n",
      "([41, 2, 5, 35], (5, 3, 6, 25))\n",
      "([41, 2, 35, 5], (6, 4, 7, 28))\n",
      "([35, 5, 41, 2], (5, 4, 7, 28))\n",
      "([35, 5, 2, 41], (4, 3, 6, 25))\n",
      "([35, 41, 5, 2], (6, 5, 8, 31))\n",
      "([35, 41, 2, 5], (6, 4, 7, 28))\n",
      "([35, 2, 5, 41], (4, 2, 5, 22))\n",
      "([35, 2, 41, 5], (5, 3, 6, 25))\n",
      "([2, 5, 41, 35], (4, 1, 4, 19))\n",
      "([2, 5, 35, 41], (3, 0, 3, 16))\n",
      "([2, 41, 5, 35], (5, 2, 5, 22))\n",
      "([2, 41, 35, 5], (6, 3, 6, 25))\n",
      "([2, 35, 5, 41], (4, 1, 4, 19))\n",
      "([2, 35, 41, 5], (5, 2, 5, 22))\n"
     ]
    },
    {
     "data": {
      "image/png": "[encoded data removed]",
      "text/plain": [
       "<matplotlib.figure.Figure at 0x7efd672f9ed0>"
      ]
     },
     "metadata": {},
     "output_type": "display_data"
    },
    {
     "name": "stdout",
     "output_type": "stream",
     "text": [
      "PROMEDIO PREGUNTAS WHILE ====> 6.0\n"
     ]
    }
   ],
   "source": [
    "permOrd=[]\n",
    "compa=[]\n",
    "for i in lista:\n",
    "   i = list(i)\n",
    "   b = list(i)\n",
    "   permOrd=insertion_sort(i)\n",
    "   compa.append(permOrd[2])\n",
    "   print(b,permOrd)\n",
    "#print (compa)\n",
    "plt.hist(compa,bins=30)\n",
    "plt.title(\"HISTOGRAMA DE PREGUNTAS WHILE\")\n",
    "plt.xlabel(\"numero de preguntas while\")\n",
    "plt.ylabel(\"numero de coincidencias\")\n",
    "plt.show()\n",
    "print \"PROMEDIO PREGUNTAS WHILE ====>\",np.average(compa)"
   ]
  },
  {
   "cell_type": "code",
   "execution_count": 18,
   "metadata": {},
   "outputs": [
    {
     "name": "stdout",
     "output_type": "stream",
     "text": [
      "([5, 41, 35, 2], (6, 4, 7, 28))\n",
      "([5, 41, 2, 35], (5, 3, 6, 25))\n",
      "([5, 35, 41, 2], (5, 3, 6, 25))\n",
      "([5, 35, 2, 41], (4, 2, 5, 22))\n",
      "([5, 2, 41, 35], (4, 2, 5, 22))\n",
      "([5, 2, 35, 41], (3, 1, 4, 19))\n",
      "([41, 5, 35, 2], (6, 5, 8, 31))\n",
      "([41, 5, 2, 35], (5, 4, 7, 28))\n",
      "([41, 35, 5, 2], (6, 6, 9, 34))\n",
      "([41, 35, 2, 5], (6, 5, 8, 31))\n",
      "([41, 2, 5, 35], (5, 3, 6, 25))\n",
      "([41, 2, 35, 5], (6, 4, 7, 28))\n",
      "([35, 5, 41, 2], (5, 4, 7, 28))\n",
      "([35, 5, 2, 41], (4, 3, 6, 25))\n",
      "([35, 41, 5, 2], (6, 5, 8, 31))\n",
      "([35, 41, 2, 5], (6, 4, 7, 28))\n",
      "([35, 2, 5, 41], (4, 2, 5, 22))\n",
      "([35, 2, 41, 5], (5, 3, 6, 25))\n",
      "([2, 5, 41, 35], (4, 1, 4, 19))\n",
      "([2, 5, 35, 41], (3, 0, 3, 16))\n",
      "([2, 41, 5, 35], (5, 2, 5, 22))\n",
      "([2, 41, 35, 5], (6, 3, 6, 25))\n",
      "([2, 35, 5, 41], (4, 1, 4, 19))\n",
      "([2, 35, 41, 5], (5, 2, 5, 22))\n"
     ]
    },
    {
     "data": {
      "image/png": "[encoded data removed]",
      "text/plain": [
       "<matplotlib.figure.Figure at 0x7efd6432aa50>"
      ]
     },
     "metadata": {},
     "output_type": "display_data"
    },
    {
     "name": "stdout",
     "output_type": "stream",
     "text": [
      "PROMEDIO INSTRUCCIONES ====> 25.0\n"
     ]
    }
   ],
   "source": [
    "permOrd=[]\n",
    "compa=[]\n",
    "for i in lista:\n",
    "   i = list(i)\n",
    "   b = list(i)\n",
    "   permOrd=insertion_sort(i)\n",
    "   compa.append(permOrd[3])\n",
    "   print(b,permOrd)\n",
    "#print (compa)\n",
    "plt.hist(compa,bins=50)\n",
    "plt.title(\"HISTOGRAMA DE INSTRUCCIONES\")\n",
    "plt.xlabel(\"numero de instrucciones\")\n",
    "plt.ylabel(\"numero de coincidencias\")\n",
    "plt.show()\n",
    "print \"PROMEDIO INSTRUCCIONES ====>\",np.average(compa)"
   ]
  },
  {
   "cell_type": "code",
   "execution_count": null,
   "metadata": {},
   "outputs": [],
   "source": []
  },
  {
   "cell_type": "code",
   "execution_count": null,
   "metadata": {},
   "outputs": [],
   "source": []
  },
  {
   "cell_type": "code",
   "execution_count": null,
   "metadata": {},
   "outputs": [],
   "source": []
  }
 ],
 "metadata": {
  "kernelspec": {
   "display_name": "Python 2",
   "language": "python",
   "name": "python2"
  },
  "language_info": {
   "codemirror_mode": {
    "name": "ipython",
    "version": 2
   },
   "file_extension": ".py",
   "mimetype": "text/x-python",
   "name": "python",
   "nbconvert_exporter": "python",
   "pygments_lexer": "ipython2",
   "version": "2.7.12"
  }
 },
 "nbformat": 4,
 "nbformat_minor": 2
}