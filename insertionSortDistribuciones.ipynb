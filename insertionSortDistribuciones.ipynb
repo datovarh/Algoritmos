{
 "cells": [
  {
   "cell_type": "code",
   "execution_count": 2,
   "metadata": {},
   "outputs": [],
   "source": [
    "import itertools\n",
    "import matplotlib.pyplot as plt\n",
    "import numpy as np"
   ]
  },
  {
   "cell_type": "markdown",
   "metadata": {},
   "source": [
    "inserion sort version itertools"
   ]
  },
  {
   "cell_type": "code",
   "execution_count": 3,
   "metadata": {},
   "outputs": [],
   "source": [
    "def insertion_sort(A):\n",
    "    compa=0\n",
    "    swaps=0\n",
    "    preWhile=0\n",
    "    instru=0\n",
    "    j = 1\n",
    "    while j < len(A):\n",
    "        key = A[j]\n",
    "        i = j - 1\n",
    "        compa+=1\n",
    "        preWhile+=1\n",
    "        instru+=4\n",
    "        while (i >= 0) and (A[i] > key):\n",
    "            A[i + 1] = A[i]\n",
    "            i = i -1\n",
    "            compa+=2\n",
    "            swaps+=1\n",
    "            preWhile+=2\n",
    "            instru+=3\n",
    "        A[i + 1] = key\n",
    "        j = j + 1\n",
    "        instru+=2\n",
    "    return A"
   ]
  },
  {
   "cell_type": "markdown",
   "metadata": {},
   "source": [
    "usando itertools con un arreglo de 12, la maquina no responde.\n",
    "El arreglo 'a' es de 4 elementos en este ejemplo"
   ]
  },
  {
   "cell_type": "code",
   "execution_count": 4,
   "metadata": {},
   "outputs": [
    {
     "name": "stdout",
     "output_type": "stream",
     "text": [
      "[(15, 2, 1, 8), (15, 2, 8, 1), (15, 1, 2, 8), (15, 1, 8, 2), (15, 8, 2, 1), (15, 8, 1, 2), (2, 15, 1, 8), (2, 15, 8, 1), (2, 1, 15, 8), (2, 1, 8, 15), (2, 8, 15, 1), (2, 8, 1, 15), (1, 15, 2, 8), (1, 15, 8, 2), (1, 2, 15, 8), (1, 2, 8, 15), (1, 8, 15, 2), (1, 8, 2, 15), (8, 15, 2, 1), (8, 15, 1, 2), (8, 2, 15, 1), (8, 2, 1, 15), (8, 1, 15, 2), (8, 1, 2, 15)]\n",
      "[1, 2, 8, 15]\n",
      "[1, 2, 8, 15]\n",
      "[1, 2, 8, 15]\n",
      "[1, 2, 8, 15]\n",
      "[1, 2, 8, 15]\n",
      "[1, 2, 8, 15]\n",
      "[1, 2, 8, 15]\n",
      "[1, 2, 8, 15]\n",
      "[1, 2, 8, 15]\n",
      "[1, 2, 8, 15]\n",
      "[1, 2, 8, 15]\n",
      "[1, 2, 8, 15]\n",
      "[1, 2, 8, 15]\n",
      "[1, 2, 8, 15]\n",
      "[1, 2, 8, 15]\n",
      "[1, 2, 8, 15]\n",
      "[1, 2, 8, 15]\n",
      "[1, 2, 8, 15]\n",
      "[1, 2, 8, 15]\n",
      "[1, 2, 8, 15]\n",
      "[1, 2, 8, 15]\n",
      "[1, 2, 8, 15]\n",
      "[1, 2, 8, 15]\n",
      "[1, 2, 8, 15]\n"
     ]
    }
   ],
   "source": [
    "a=[15,2,1,8]\n",
    "lista =list(itertools.permutations(a))\n",
    "print (lista)\n",
    "for i in lista:\n",
    "    i = list(i)\n",
    "    print(insertion_sort(i))"
   ]
  },
  {
   "cell_type": "markdown",
   "metadata": {},
   "source": [
    "Ahora con el codigo de daniel jimenez"
   ]
  },
  {
   "cell_type": "code",
   "execution_count": 5,
   "metadata": {},
   "outputs": [],
   "source": [
    "def insertion_sort(A):\n",
    "    compa=0\n",
    "    swaps=0\n",
    "    preWhile=0\n",
    "    instru=0\n",
    "    j = 1\n",
    "    while j < len(A):\n",
    "        key = A[j]\n",
    "        i = j - 1\n",
    "        compa+=1\n",
    "        preWhile+=1\n",
    "        instru+=4\n",
    "        while (i >= 0) and (A[i] > key):\n",
    "            A[i + 1] = A[i]\n",
    "            i = i -1\n",
    "            compa+=2\n",
    "            swaps+=1\n",
    "            preWhile+=2\n",
    "            instru+=3\n",
    "        A[i + 1] = key\n",
    "        j = j + 1\n",
    "        instru+=2\n",
    "    return compa,swaps,preWhile,instru"
   ]
  },
  {
   "cell_type": "markdown",
   "metadata": {},
   "source": [
    "con swap y perm sobre un mismo arreglo. Se usa el mismo arreglo 'a' de itertools"
   ]
  },
  {
   "cell_type": "code",
   "execution_count": 9,
   "metadata": {},
   "outputs": [
    {
     "name": "stdout",
     "output_type": "stream",
     "text": [
      "[15, 2, 1, 8]\n",
      "[15, 2, 8, 1]\n",
      "[15, 1, 2, 8]\n",
      "[15, 1, 8, 2]\n",
      "[15, 8, 1, 2]\n",
      "[15, 8, 2, 1]\n",
      "[2, 15, 1, 8]\n",
      "[2, 15, 8, 1]\n",
      "[2, 1, 15, 8]\n",
      "[2, 1, 8, 15]\n",
      "[2, 8, 1, 15]\n",
      "[2, 8, 15, 1]\n",
      "[1, 2, 15, 8]\n",
      "[1, 2, 8, 15]\n",
      "[1, 15, 2, 8]\n",
      "[1, 15, 8, 2]\n",
      "[1, 8, 15, 2]\n",
      "[1, 8, 2, 15]\n",
      "[8, 2, 1, 15]\n",
      "[8, 2, 15, 1]\n",
      "[8, 1, 2, 15]\n",
      "[8, 1, 15, 2]\n",
      "[8, 15, 1, 2]\n",
      "[8, 15, 2, 1]\n",
      "[[15, 2, 1, 8], [15, 2, 1, 8], [15, 2, 1, 8], [15, 2, 1, 8], [15, 2, 1, 8], [15, 2, 1, 8], [15, 2, 1, 8], [15, 2, 1, 8], [15, 2, 1, 8], [15, 2, 1, 8], [15, 2, 1, 8], [15, 2, 1, 8], [15, 2, 1, 8], [15, 2, 1, 8], [15, 2, 1, 8], [15, 2, 1, 8], [15, 2, 1, 8], [15, 2, 1, 8], [15, 2, 1, 8], [15, 2, 1, 8], [15, 2, 1, 8], [15, 2, 1, 8], [15, 2, 1, 8], [15, 2, 1, 8]]\n"
     ]
    }
   ],
   "source": [
    "def swap(lista, i, j):\n",
    "    lista[i], lista[j] = lista[j], lista[i]\n",
    "\n",
    "listaDaniel=[]\n",
    "def perm(a,i,j):\n",
    "    if j==i:\n",
    "        print (a)\n",
    "        listaDaniel.append(a)\n",
    "        return\n",
    "    for m in range(i, j+1):\n",
    "\n",
    "        swap(a,m,i)\n",
    "        perm(a,i+1, j)\n",
    "        swap(a, m, i)\n",
    "        \n",
    "perm(a,0,len(a)-1)        \n",
    "print (listaDaniel)"
   ]
  },
  {
   "cell_type": "markdown",
   "metadata": {},
   "source": [
    "Vemos que ambos dan todas las permutaciones. Ahora realizaremos los histogramas de insertion sort"
   ]
  },
  {
   "cell_type": "markdown",
   "metadata": {},
   "source": [
    "La funcion insertion sort retorna comparaciones,swaps,preguntas while e instrucciones. La funcion promedio calculará el promedio de las distintas cuentas"
   ]
  },
  {
   "cell_type": "code",
   "execution_count": 15,
   "metadata": {},
   "outputs": [
    {
     "name": "stdout",
     "output_type": "stream",
     "text": [
      "([15, 2, 1, 8], (11, 4, 11, 30))\n",
      "([15, 2, 8, 1], (13, 5, 13, 33))\n",
      "([15, 1, 2, 8], (9, 3, 9, 27))\n",
      "([15, 1, 8, 2], (11, 4, 11, 30))\n",
      "([15, 8, 2, 1], (15, 6, 15, 36))\n",
      "([15, 8, 1, 2], (13, 5, 13, 33))\n",
      "([2, 15, 1, 8], (9, 3, 9, 27))\n",
      "([2, 15, 8, 1], (11, 4, 11, 30))\n",
      "([2, 1, 15, 8], (7, 2, 7, 24))\n",
      "([2, 1, 8, 15], (5, 1, 5, 21))\n",
      "([2, 8, 15, 1], (9, 3, 9, 27))\n",
      "([2, 8, 1, 15], (7, 2, 7, 24))\n",
      "([1, 15, 2, 8], (7, 2, 7, 24))\n",
      "([1, 15, 8, 2], (9, 3, 9, 27))\n",
      "([1, 2, 15, 8], (5, 1, 5, 21))\n",
      "([1, 2, 8, 15], (3, 0, 3, 18))\n",
      "([1, 8, 15, 2], (7, 2, 7, 24))\n",
      "([1, 8, 2, 15], (5, 1, 5, 21))\n",
      "([8, 15, 2, 1], (13, 5, 13, 33))\n",
      "([8, 15, 1, 2], (11, 4, 11, 30))\n",
      "([8, 2, 15, 1], (11, 4, 11, 30))\n",
      "([8, 2, 1, 15], (9, 3, 9, 27))\n",
      "([8, 1, 15, 2], (9, 3, 9, 27))\n",
      "([8, 1, 2, 15], (7, 2, 7, 24))\n"
     ]
    },
    {
     "data": {
      "image/png": "[encoded data removed]",
      "text/plain": [
       "<matplotlib.figure.Figure at 0x7f27024e8750>"
      ]
     },
     "metadata": {},
     "output_type": "display_data"
    },
    {
     "name": "stdout",
     "output_type": "stream",
     "text": [
      "PROMEDIO COMPARACIONES ====> 9\n"
     ]
    }
   ],
   "source": [
    "def promedio(lista):\n",
    "    resultado = 0\n",
    "    for i in range(len(lista)):\n",
    "        resultado += lista[i]\n",
    "    return resultado / len(lista)\n",
    "\n",
    "permOrd=[]\n",
    "compa=[]\n",
    "for i in lista:\n",
    "   i = list(i)\n",
    "   b = list(i)\n",
    "   permOrd=insertion_sort(i)\n",
    "   compa.append(permOrd[0])\n",
    "   print(b,permOrd)\n",
    "\n",
    "#print (compa)\n",
    "\n",
    "plt.hist(compa,bins=30)\n",
    "plt.title(\"HISTOGRAMA DE COMPARACIONES\")\n",
    "plt.xlabel(\"numero de comparaciones\")\n",
    "plt.ylabel(\"numero de coincidencias\")\n",
    "plt.show()\n",
    "print \"PROMEDIO COMPARACIONES ====>\",promedio(compa)"
   ]
  },
  {
   "cell_type": "code",
   "execution_count": 16,
   "metadata": {},
   "outputs": [
    {
     "name": "stdout",
     "output_type": "stream",
     "text": [
      "([15, 2, 1, 8], (11, 4, 11, 30))\n",
      "([15, 2, 8, 1], (13, 5, 13, 33))\n",
      "([15, 1, 2, 8], (9, 3, 9, 27))\n",
      "([15, 1, 8, 2], (11, 4, 11, 30))\n",
      "([15, 8, 2, 1], (15, 6, 15, 36))\n",
      "([15, 8, 1, 2], (13, 5, 13, 33))\n",
      "([2, 15, 1, 8], (9, 3, 9, 27))\n",
      "([2, 15, 8, 1], (11, 4, 11, 30))\n",
      "([2, 1, 15, 8], (7, 2, 7, 24))\n",
      "([2, 1, 8, 15], (5, 1, 5, 21))\n",
      "([2, 8, 15, 1], (9, 3, 9, 27))\n",
      "([2, 8, 1, 15], (7, 2, 7, 24))\n",
      "([1, 15, 2, 8], (7, 2, 7, 24))\n",
      "([1, 15, 8, 2], (9, 3, 9, 27))\n",
      "([1, 2, 15, 8], (5, 1, 5, 21))\n",
      "([1, 2, 8, 15], (3, 0, 3, 18))\n",
      "([1, 8, 15, 2], (7, 2, 7, 24))\n",
      "([1, 8, 2, 15], (5, 1, 5, 21))\n",
      "([8, 15, 2, 1], (13, 5, 13, 33))\n",
      "([8, 15, 1, 2], (11, 4, 11, 30))\n",
      "([8, 2, 15, 1], (11, 4, 11, 30))\n",
      "([8, 2, 1, 15], (9, 3, 9, 27))\n",
      "([8, 1, 15, 2], (9, 3, 9, 27))\n",
      "([8, 1, 2, 15], (7, 2, 7, 24))\n"
     ]
    },
    {
     "data": {
      "image/png": "[encoded data removed]",
      "text/plain": [
       "<matplotlib.figure.Figure at 0x7f2718242f50>"
      ]
     },
     "metadata": {},
     "output_type": "display_data"
    },
    {
     "name": "stdout",
     "output_type": "stream",
     "text": [
      "PROMEDIO SWAPS ====> 3\n"
     ]
    }
   ],
   "source": [
    "permOrd=[]\n",
    "compa=[]\n",
    "for i in lista:\n",
    "   i = list(i)\n",
    "   b = list(i)\n",
    "   permOrd=insertion_sort(i)\n",
    "   compa.append(permOrd[1])\n",
    "   print(b,permOrd)\n",
    "#print (compa)\n",
    "plt.hist(compa,bins=30)\n",
    "plt.title(\"HISTOGRAMA DE SWAP\")\n",
    "plt.xlabel(\"numero de swaps\")\n",
    "plt.ylabel(\"numero de coincidencias\")\n",
    "plt.show()\n",
    "print \"PROMEDIO SWAPS ====>\",promedio(compa)"
   ]
  },
  {
   "cell_type": "code",
   "execution_count": 17,
   "metadata": {},
   "outputs": [
    {
     "name": "stdout",
     "output_type": "stream",
     "text": [
      "([15, 2, 1, 8], (11, 4, 11, 30))\n",
      "([15, 2, 8, 1], (13, 5, 13, 33))\n",
      "([15, 1, 2, 8], (9, 3, 9, 27))\n",
      "([15, 1, 8, 2], (11, 4, 11, 30))\n",
      "([15, 8, 2, 1], (15, 6, 15, 36))\n",
      "([15, 8, 1, 2], (13, 5, 13, 33))\n",
      "([2, 15, 1, 8], (9, 3, 9, 27))\n",
      "([2, 15, 8, 1], (11, 4, 11, 30))\n",
      "([2, 1, 15, 8], (7, 2, 7, 24))\n",
      "([2, 1, 8, 15], (5, 1, 5, 21))\n",
      "([2, 8, 15, 1], (9, 3, 9, 27))\n",
      "([2, 8, 1, 15], (7, 2, 7, 24))\n",
      "([1, 15, 2, 8], (7, 2, 7, 24))\n",
      "([1, 15, 8, 2], (9, 3, 9, 27))\n",
      "([1, 2, 15, 8], (5, 1, 5, 21))\n",
      "([1, 2, 8, 15], (3, 0, 3, 18))\n",
      "([1, 8, 15, 2], (7, 2, 7, 24))\n",
      "([1, 8, 2, 15], (5, 1, 5, 21))\n",
      "([8, 15, 2, 1], (13, 5, 13, 33))\n",
      "([8, 15, 1, 2], (11, 4, 11, 30))\n",
      "([8, 2, 15, 1], (11, 4, 11, 30))\n",
      "([8, 2, 1, 15], (9, 3, 9, 27))\n",
      "([8, 1, 15, 2], (9, 3, 9, 27))\n",
      "([8, 1, 2, 15], (7, 2, 7, 24))\n"
     ]
    },
    {
     "data": {
      "image/png": "[encoded data removed]",
      "text/plain": [
       "<matplotlib.figure.Figure at 0x7f27021fc950>"
      ]
     },
     "metadata": {},
     "output_type": "display_data"
    },
    {
     "name": "stdout",
     "output_type": "stream",
     "text": [
      "PROMEDIO PREGUNTAS WHILE ====> 9\n"
     ]
    }
   ],
   "source": [
    "permOrd=[]\n",
    "compa=[]\n",
    "for i in lista:\n",
    "   i = list(i)\n",
    "   b = list(i)\n",
    "   permOrd=insertion_sort(i)\n",
    "   compa.append(permOrd[2])\n",
    "   print(b,permOrd)\n",
    "#print (compa)\n",
    "plt.hist(compa,bins=30)\n",
    "plt.title(\"HISTOGRAMA DE PREGUNTAS WHILE\")\n",
    "plt.xlabel(\"numero de preguntas while\")\n",
    "plt.ylabel(\"numero de coincidencias\")\n",
    "plt.show()\n",
    "print \"PROMEDIO PREGUNTAS WHILE ====>\",promedio(compa)"
   ]
  },
  {
   "cell_type": "code",
   "execution_count": 18,
   "metadata": {},
   "outputs": [
    {
     "name": "stdout",
     "output_type": "stream",
     "text": [
      "([15, 2, 1, 8], (11, 4, 11, 30))\n",
      "([15, 2, 8, 1], (13, 5, 13, 33))\n",
      "([15, 1, 2, 8], (9, 3, 9, 27))\n",
      "([15, 1, 8, 2], (11, 4, 11, 30))\n",
      "([15, 8, 2, 1], (15, 6, 15, 36))\n",
      "([15, 8, 1, 2], (13, 5, 13, 33))\n",
      "([2, 15, 1, 8], (9, 3, 9, 27))\n",
      "([2, 15, 8, 1], (11, 4, 11, 30))\n",
      "([2, 1, 15, 8], (7, 2, 7, 24))\n",
      "([2, 1, 8, 15], (5, 1, 5, 21))\n",
      "([2, 8, 15, 1], (9, 3, 9, 27))\n",
      "([2, 8, 1, 15], (7, 2, 7, 24))\n",
      "([1, 15, 2, 8], (7, 2, 7, 24))\n",
      "([1, 15, 8, 2], (9, 3, 9, 27))\n",
      "([1, 2, 15, 8], (5, 1, 5, 21))\n",
      "([1, 2, 8, 15], (3, 0, 3, 18))\n",
      "([1, 8, 15, 2], (7, 2, 7, 24))\n",
      "([1, 8, 2, 15], (5, 1, 5, 21))\n",
      "([8, 15, 2, 1], (13, 5, 13, 33))\n",
      "([8, 15, 1, 2], (11, 4, 11, 30))\n",
      "([8, 2, 15, 1], (11, 4, 11, 30))\n",
      "([8, 2, 1, 15], (9, 3, 9, 27))\n",
      "([8, 1, 15, 2], (9, 3, 9, 27))\n",
      "([8, 1, 2, 15], (7, 2, 7, 24))\n"
     ]
    },
    {
     "data": {
      "image/png": "[encoded data removed]",
      "text/plain": [
       "<matplotlib.figure.Figure at 0x7f2702124a50>"
      ]
     },
     "metadata": {},
     "output_type": "display_data"
    },
    {
     "name": "stdout",
     "output_type": "stream",
     "text": [
      "PROMEDIO INSTRUCCIONES ====> 27\n"
     ]
    }
   ],
   "source": [
    "permOrd=[]\n",
    "compa=[]\n",
    "for i in lista:\n",
    "   i = list(i)\n",
    "   b = list(i)\n",
    "   permOrd=insertion_sort(i)\n",
    "   compa.append(permOrd[3])\n",
    "   print(b,permOrd)\n",
    "#print (compa)\n",
    "plt.hist(compa,bins=50)\n",
    "plt.title(\"HISTOGRAMA DE INSTRUCCIONES\")\n",
    "plt.xlabel(\"numero de instrucciones\")\n",
    "plt.ylabel(\"numero de coincidencias\")\n",
    "plt.show()\n",
    "print \"PROMEDIO INSTRUCCIONES ====>\",promedio(compa)"
   ]
  }
 ],
 "metadata": {
  "kernelspec": {
   "display_name": "Python 2",
   "language": "python",
   "name": "python2"
  },
  "language_info": {
   "codemirror_mode": {
    "name": "ipython",
    "version": 2
   },
   "file_extension": ".py",
   "mimetype": "text/x-python",
   "name": "python",
   "nbconvert_exporter": "python",
   "pygments_lexer": "ipython2",
   "version": "2.7.12"
  }
 },
 "nbformat": 4,
 "nbformat_minor": 2
}